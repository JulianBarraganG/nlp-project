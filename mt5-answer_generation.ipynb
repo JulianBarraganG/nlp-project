{
 "cells": [
  {
   "cell_type": "markdown",
   "id": "b08c80ae",
   "metadata": {},
   "source": [
    "# MT5 Fine-tuning for Question Answering\n",
    "\n",
    "This notebook demonstrates fine-tuning the MT5 model on multilingual question answering data."
   ]
  },
  {
   "cell_type": "code",
   "execution_count": null,
   "id": "e152c686",
   "metadata": {},
   "outputs": [],
   "source": [
    "import polars as pl\n",
    "from datasets import load_dataset\n",
    "from transformers import Seq2SeqTrainingArguments, DataCollatorForSeq2Seq, Seq2SeqTrainer\n",
    "from transformers import MT5ForConditionalGeneration, T5Tokenizer\n",
    "import torch\n",
    "import evaluate\n",
    "import numpy as np\n",
    "import os\n",
    "\n",
    "from mt5_utils import generate_prompt_with_context, generate_prompt_wo_context, tokenize_to_dataset, compute_metrics"
   ]
  },
  {
   "cell_type": "code",
   "execution_count": null,
   "id": "f9fa6ef7",
   "metadata": {},
   "outputs": [],
   "source": [
    "# Global vars\n",
    "TRAIN = False\n",
    "mt5_telugu_w_context_save_path = os.path.join(os.path.join(\"results\", \"mt5-telugu-qa-w-context\"))\n",
    "mt5_telugu_wo_context_save_path = os.path.join(os.path.join(\"results\", \"mt5-telugu-qa-wo-context\"))"
   ]
  },
  {
   "cell_type": "code",
   "execution_count": null,
   "id": "b1bb3846",
   "metadata": {},
   "outputs": [],
   "source": [
    "# Load dataset\n",
    "dataset = load_dataset(\"coastalcph/tydi_xor_rc\")\n",
    "df_train = dataset[\"train\"].to_polars()\n",
    "df_val = dataset[\"validation\"].to_polars()\n",
    "df_te_train = df_train.filter(pl.col(\"lang\") == \"te\", pl.col(\"answer_inlang\").is_not_null())\n",
    "df_te_val = df_val.filter(pl.col(\"lang\") == \"te\", pl.col(\"answer_inlang\").is_not_null())"
   ]
  },
  {
   "cell_type": "code",
   "execution_count": null,
   "id": "09d1a810",
   "metadata": {},
   "outputs": [],
   "source": [
    "# Select device for training\n",
    "device = torch.device(\"cpu\")\n",
    "if torch.backends.mps.is_available():\n",
    "    device = torch.device(\"mps\")\n",
    "if torch.cuda.is_available():\n",
    "  device = torch.device(\"cuda\")\n",
    "\n",
    "print(f'Using device: {device}')"
   ]
  },
  {
   "cell_type": "code",
   "execution_count": null,
   "id": "90e66903",
   "metadata": {},
   "outputs": [],
   "source": [
    "if os.path.exists(os.path.join(mt5_telugu_w_context_save_path, \"fine_tuned\")):\n",
    "    print(\"Loading model from disk\")\n",
    "    mt5_w_context_tokenizer = T5Tokenizer.from_pretrained(os.path.join(mt5_telugu_w_context_save_path, \"fine_tuned\"))\n",
    "    mt5_w_context_model = MT5ForConditionalGeneration.from_pretrained(os.path.join(mt5_telugu_w_context_save_path, \"fine_tuned\"))\n",
    "    mt5_w_context_model.to(device)\n",
    "else:\n",
    "    print(\"Loading model from Huggingface\")\n",
    "    mt5_w_context_tokenizer = T5Tokenizer.from_pretrained(\"google/mt5-small\")\n",
    "    mt5_w_context_model = MT5ForConditionalGeneration.from_pretrained(\"google/mt5-small\")\n",
    "    mt5_w_context_model.to(device)"
   ]
  },
  {
   "cell_type": "code",
   "execution_count": null,
   "id": "1b38c3ba",
   "metadata": {},
   "outputs": [],
   "source": [
    "df_te_train_prompt_w_context = generate_prompt_with_context(df_te_val) # Flip train and val since val is bigger\n",
    "df_te_val_prompt_w_context = generate_prompt_with_context(df_te_train)\n",
    "train_dataset_w_context = tokenize_to_dataset(df_te_train_prompt_w_context, mt5_w_context_tokenizer)\n",
    "val_dataset_w_context = tokenize_to_dataset(df_te_val_prompt_w_context, mt5_w_context_tokenizer)"
   ]
  },
  {
   "cell_type": "code",
   "execution_count": null,
   "id": "89cebb7f",
   "metadata": {},
   "outputs": [],
   "source": [
    "# https://huggingface.co/learn/llm-course/chapter7/4?fw=pt\n",
    "epochs = 25\n",
    "\n",
    "training_args = Seq2SeqTrainingArguments(\n",
    "    fp16=False,\n",
    "    auto_find_batch_size=True,\n",
    "\n",
    "    output_dir=mt5_telugu_w_context_save_path,\n",
    "    overwrite_output_dir = True,\n",
    "    learning_rate=2e-5,\n",
    "    \n",
    "    predict_with_generate=True,\n",
    "    num_train_epochs=epochs,\n",
    "    weight_decay=0.01,\n",
    "    generation_max_length=128,\n",
    "\n",
    "    save_total_limit=3,\n",
    "    save_strategy = \"best\",\n",
    "    load_best_model_at_end = True,\n",
    "\n",
    "    logging_strategy=\"epoch\",\n",
    "    eval_strategy = \"epoch\",\n",
    "    log_level=\"info\",\n",
    "    report_to=[],\n",
    "    logging_dir=None\n",
    ")\n",
    "#data_collator = DataCollatorForSeq2Seq(mt5_tokenizer, model=mt5_model)\n",
    "\n",
    "trainer = Seq2SeqTrainer(\n",
    "    model=mt5_w_context_model,\n",
    "    args=training_args,\n",
    "    train_dataset=train_dataset_w_context,\n",
    "    eval_dataset=val_dataset_w_context,\n",
    "    tokenizer=mt5_w_context_tokenizer,\n",
    "#    data_collator=data_collator,\n",
    "    compute_metrics=lambda eval_preds: compute_metrics(eval_preds, mt5_w_context_tokenizer)\n",
    ")"
   ]
  },
  {
   "cell_type": "code",
   "execution_count": null,
   "id": "97cb50f6",
   "metadata": {},
   "outputs": [],
   "source": [
    "if TRAIN:\n",
    "    trainer.train()\n",
    "    trainer.save_model(os.path.join(mt5_telugu_w_context_save_path, \"fine_tuned\"))\n",
    "results = trainer.evaluate()\n",
    "print(results)"
   ]
  },
  {
   "cell_type": "code",
   "execution_count": null,
   "id": "56eb7541",
   "metadata": {},
   "outputs": [],
   "source": [
    "if os.path.exists(os.path.join(mt5_telugu_wo_context_save_path, \"fine_tuned\")):\n",
    "    print(\"Loading model from disk\")\n",
    "    mt5_wo_context_tokenizer = T5Tokenizer.from_pretrained(os.path.join(mt5_telugu_wo_context_save_path, \"fine_tuned\"))\n",
    "    mt5_wo_context_model = MT5ForConditionalGeneration.from_pretrained(os.path.join(mt5_telugu_wo_context_save_path, \"fine_tuned\"))\n",
    "    mt5_wo_context_model.to(device)\n",
    "else:\n",
    "    print(\"Loading model from Huggingface\")\n",
    "    mt5_wo_context_tokenizer = T5Tokenizer.from_pretrained(\"google/mt5-small\")\n",
    "    mt5_wo_context_model = MT5ForConditionalGeneration.from_pretrained(\"google/mt5-small\")\n",
    "    mt5_wo_context_model.to(device)"
   ]
  },
  {
   "cell_type": "code",
   "execution_count": null,
   "id": "524b4a47",
   "metadata": {},
   "outputs": [],
   "source": [
    "df_te_train_prompt_wo_context = generate_prompt_wo_context(df_te_val)\n",
    "df_te_val_prompt_wo_context = generate_prompt_wo_context(df_te_train)\n",
    "train_dataset_wo_context = tokenize_to_dataset(df_te_train_prompt_wo_context, mt5_wo_context_tokenizer)\n",
    "val_dataset_wo_context = tokenize_to_dataset(df_te_val_prompt_wo_context, mt5_wo_context_tokenizer)"
   ]
  },
  {
   "cell_type": "code",
   "execution_count": null,
   "id": "c72e2ab5",
   "metadata": {},
   "outputs": [],
   "source": [
    "# https://huggingface.co/learn/llm-course/chapter7/4?fw=pt\n",
    "epochs = 25\n",
    "\n",
    "training_args = Seq2SeqTrainingArguments(\n",
    "    fp16=False,\n",
    "    auto_find_batch_size=True,\n",
    "\n",
    "    output_dir=mt5_telugu_wo_context_save_path,\n",
    "    overwrite_output_dir = True,\n",
    "    learning_rate=2e-5,\n",
    "    \n",
    "    predict_with_generate=True,\n",
    "    num_train_epochs=epochs,\n",
    "    weight_decay=0.01,\n",
    "    generation_max_length=128,\n",
    "\n",
    "    save_total_limit=3,\n",
    "    save_strategy = \"best\",\n",
    "    load_best_model_at_end = True,\n",
    "\n",
    "    logging_strategy=\"epoch\",\n",
    "    eval_strategy = \"epoch\",\n",
    "    log_level=\"info\",\n",
    "    report_to=[],\n",
    "    logging_dir=None\n",
    ")\n",
    "#data_collator = DataCollatorForSeq2Seq(mt5_tokenizer, model=mt5_model)\n",
    "\n",
    "trainer = Seq2SeqTrainer(\n",
    "    model=mt5_wo_context_model,\n",
    "    args=training_args,\n",
    "    train_dataset=train_dataset_wo_context,\n",
    "    eval_dataset=val_dataset_wo_context,\n",
    "    tokenizer=mt5_wo_context_tokenizer,\n",
    "#    data_collator=data_collator,\n",
    "    compute_metrics=lambda eval_preds: compute_metrics(eval_preds, mt5_wo_context_tokenizer),\n",
    ")"
   ]
  },
  {
   "cell_type": "code",
   "execution_count": null,
   "id": "004ba5d1",
   "metadata": {},
   "outputs": [],
   "source": [
    "if TRAIN:\n",
    "    trainer.train()\n",
    "    trainer.save_model(os.path.join(mt5_telugu_wo_context_save_path, \"fine_tuned\"))\n",
    "results = trainer.evaluate()\n",
    "print(results)"
   ]
  },
  {
   "cell_type": "code",
   "execution_count": null,
   "id": "7afe67ba",
   "metadata": {},
   "outputs": [],
   "source": [
    "#import gc\n",
    "#gc.collect()\n",
    "#with torch.no_grad():\n",
    "#    torch.cuda.empty_cache()"
   ]
  },
  {
   "cell_type": "code",
   "execution_count": null,
   "id": "1fce6e2f",
   "metadata": {},
   "outputs": [],
   "source": [
    "random_num = np.random.randint(0, len(df_te_val_prompt_w_context))\n",
    "\n",
    "question = df_te_val_prompt_w_context[\"prompt\"][random_num]\n",
    "answer = df_te_val_prompt_w_context[\"answer_inlang\"][random_num]\n",
    "\n",
    "inputs = mt5_w_context_tokenizer(\n",
    "    question, \n",
    "    return_tensors=\"pt\", \n",
    "    truncation=True, \n",
    "    max_length=512\n",
    "    ).to(device)    \n",
    "\n",
    "outputs = mt5_w_context_model.generate(**inputs)\n",
    "gen_answer = mt5_w_context_tokenizer.decode(outputs[0], skip_special_tokens=True)\n",
    "print(f\"Question: {question}\")\n",
    "print(f\"Answer: {answer}\")\n",
    "print(f\"Generated Answer: {gen_answer}\")"
   ]
  }
 ],
 "metadata": {
  "kernelspec": {
   "display_name": "masters",
   "language": "python",
   "name": "python3"
  },
  "language_info": {
   "codemirror_mode": {
    "name": "ipython",
    "version": 3
   },
   "file_extension": ".py",
   "mimetype": "text/x-python",
   "name": "python",
   "nbconvert_exporter": "python",
   "pygments_lexer": "ipython3",
   "version": "3.11.13"
  }
 },
 "nbformat": 4,
 "nbformat_minor": 5
}
