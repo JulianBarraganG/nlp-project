{
 "cells": [
  {
   "cell_type": "markdown",
   "id": "b08c80ae",
   "metadata": {},
   "source": [
    "# MT5 Fine-tuning for Question Answering\n",
    "\n",
    "This notebook demonstrates fine-tuning the MT5 model on multilingual question answering data."
   ]
  },
  {
   "cell_type": "code",
   "execution_count": null,
   "id": "e152c686",
   "metadata": {},
   "outputs": [],
   "source": [
    "import polars as pl\n",
    "from datasets import load_dataset\n",
    "from transformers import MT5ForConditionalGeneration, T5Tokenizer\n",
    "import torch\n",
    "import evaluate\n",
    "import numpy as np\n",
    "import os\n",
    "\n",
    "from mt5_utils import generate_prompt_with_context, generate_prompt_wo_context, tokenize_to_dataset, trainer_generator"
   ]
  },
  {
   "cell_type": "code",
   "execution_count": null,
   "id": "f9fa6ef7",
   "metadata": {},
   "outputs": [],
   "source": [
    "# Global vars\n",
    "TRAIN = False\n",
    "mt5_telugu_w_context_save_path = os.path.join(os.path.join(\"results\", \"mt5-telugu-qa-w-context\"))\n",
    "mt5_telugu_wo_context_save_path = os.path.join(os.path.join(\"results\", \"mt5-telugu-qa-wo-context\"))"
   ]
  },
  {
   "cell_type": "code",
   "execution_count": null,
   "id": "b1bb3846",
   "metadata": {},
   "outputs": [],
   "source": [
    "# Load dataset\n",
    "dataset = load_dataset(\"coastalcph/tydi_xor_rc\")\n",
    "df_train = dataset[\"train\"].to_polars()\n",
    "df_val = dataset[\"validation\"].to_polars()\n",
    "df_te_train = df_train.filter(pl.col(\"lang\") == \"te\", pl.col(\"answer_inlang\").is_not_null())\n",
    "df_te_val = df_val.filter(pl.col(\"lang\") == \"te\", pl.col(\"answer_inlang\").is_not_null())\n",
    "\n",
    "print(f\"Train size: {df_te_train.shape}, Val size: {df_te_val.shape}\")"
   ]
  },
  {
   "cell_type": "code",
   "execution_count": null,
   "id": "09d1a810",
   "metadata": {},
   "outputs": [],
   "source": [
    "# Select device for training\n",
    "device = torch.device(\"cpu\")\n",
    "if torch.backends.mps.is_available():\n",
    "    device = torch.device(\"mps\")\n",
    "if torch.cuda.is_available():\n",
    "  device = torch.device(\"cuda\")\n",
    "\n",
    "print(f'Using device: {device}')"
   ]
  },
  {
   "cell_type": "code",
   "execution_count": null,
   "id": "90e66903",
   "metadata": {},
   "outputs": [],
   "source": [
    "if os.path.exists(os.path.join(mt5_telugu_w_context_save_path, \"fine_tuned\")):\n",
    "    print(\"Loading model from disk\")\n",
    "    mt5_w_context_tokenizer = T5Tokenizer.from_pretrained(os.path.join(mt5_telugu_w_context_save_path, \"fine_tuned\"))\n",
    "    mt5_w_context_model = MT5ForConditionalGeneration.from_pretrained(os.path.join(mt5_telugu_w_context_save_path, \"fine_tuned\"))\n",
    "    mt5_w_context_model.to(device)\n",
    "else:\n",
    "    print(\"Loading model from Huggingface\")\n",
    "    mt5_w_context_tokenizer = T5Tokenizer.from_pretrained(\"google/mt5-small\")\n",
    "    mt5_w_context_model = MT5ForConditionalGeneration.from_pretrained(\"google/mt5-small\")\n",
    "    mt5_w_context_model.to(device)"
   ]
  },
  {
   "cell_type": "code",
   "execution_count": null,
   "id": "1b38c3ba",
   "metadata": {},
   "outputs": [],
   "source": [
    "df_te_train_prompt_w_context = generate_prompt_with_context(df_te_val) # Flip train and val since val is bigger\n",
    "df_te_val_prompt_w_context = generate_prompt_with_context(df_te_train)\n",
    "train_dataset_w_context = tokenize_to_dataset(df_te_train_prompt_w_context, mt5_w_context_tokenizer)\n",
    "val_dataset_w_context = tokenize_to_dataset(df_te_val_prompt_w_context, mt5_w_context_tokenizer)"
   ]
  },
  {
   "cell_type": "code",
   "execution_count": null,
   "id": "97cb50f6",
   "metadata": {},
   "outputs": [],
   "source": [
    "trainer = trainer_generator(\n",
    "    model=mt5_w_context_model,\n",
    "    tokenizer=mt5_w_context_tokenizer,\n",
    "    train_dataset=train_dataset_w_context,\n",
    "    eval_dataset=val_dataset_w_context,\n",
    "    output_dir=mt5_telugu_w_context_save_path,\n",
    "    epochs=25\n",
    ")\n",
    "if TRAIN:\n",
    "    trainer.train()\n",
    "    trainer.save_model(os.path.join(mt5_telugu_w_context_save_path, \"fine_tuned\"))\n",
    "results = trainer.evaluate()\n",
    "print(results)"
   ]
  },
  {
   "cell_type": "code",
   "execution_count": null,
   "id": "56eb7541",
   "metadata": {},
   "outputs": [],
   "source": [
    "if os.path.exists(os.path.join(mt5_telugu_wo_context_save_path, \"fine_tuned\")):\n",
    "    print(\"Loading model from disk\")\n",
    "    mt5_wo_context_tokenizer = T5Tokenizer.from_pretrained(os.path.join(mt5_telugu_wo_context_save_path, \"fine_tuned\"))\n",
    "    mt5_wo_context_model = MT5ForConditionalGeneration.from_pretrained(os.path.join(mt5_telugu_wo_context_save_path, \"fine_tuned\"))\n",
    "    mt5_wo_context_model.to(device)\n",
    "else:\n",
    "    print(\"Loading model from Huggingface\")\n",
    "    mt5_wo_context_tokenizer = T5Tokenizer.from_pretrained(\"google/mt5-small\")\n",
    "    mt5_wo_context_model = MT5ForConditionalGeneration.from_pretrained(\"google/mt5-small\")\n",
    "    mt5_wo_context_model.to(device)"
   ]
  },
  {
   "cell_type": "code",
   "execution_count": null,
   "id": "524b4a47",
   "metadata": {},
   "outputs": [],
   "source": [
    "df_te_train_prompt_wo_context = generate_prompt_wo_context(df_te_val)\n",
    "df_te_val_prompt_wo_context = generate_prompt_wo_context(df_te_train)\n",
    "train_dataset_wo_context = tokenize_to_dataset(df_te_train_prompt_wo_context, mt5_wo_context_tokenizer)\n",
    "val_dataset_wo_context = tokenize_to_dataset(df_te_val_prompt_wo_context, mt5_wo_context_tokenizer)"
   ]
  },
  {
   "cell_type": "code",
   "execution_count": null,
   "id": "004ba5d1",
   "metadata": {},
   "outputs": [],
   "source": [
    "trainer = trainer_generator(\n",
    "    model=mt5_wo_context_model,\n",
    "    tokenizer=mt5_wo_context_tokenizer,\n",
    "    train_dataset=train_dataset_wo_context,\n",
    "    eval_dataset=val_dataset_wo_context,\n",
    "    output_dir=mt5_telugu_wo_context_save_path,\n",
    "    epochs=25\n",
    ")\n",
    "if TRAIN:\n",
    "    trainer.train()\n",
    "    trainer.save_model(os.path.join(mt5_telugu_wo_context_save_path, \"fine_tuned\"))\n",
    "results = trainer.evaluate()\n",
    "print(results)"
   ]
  },
  {
   "cell_type": "code",
   "execution_count": null,
   "id": "7afe67ba",
   "metadata": {},
   "outputs": [],
   "source": [
    "#import gc\n",
    "#gc.collect()\n",
    "#with torch.no_grad():\n",
    "#    torch.cuda.empty_cache()"
   ]
  },
  {
   "cell_type": "code",
   "execution_count": null,
   "id": "1fce6e2f",
   "metadata": {},
   "outputs": [],
   "source": [
    "random_num = np.random.randint(0, len(df_te_val_prompt_w_context))\n",
    "\n",
    "question = df_te_val_prompt_w_context[\"prompt\"][random_num]\n",
    "answer = df_te_val_prompt_w_context[\"answer_inlang\"][random_num]\n",
    "\n",
    "inputs = mt5_w_context_tokenizer(\n",
    "    question, \n",
    "    return_tensors=\"pt\", \n",
    "    truncation=True, \n",
    "    max_length=512\n",
    "    ).to(device)    \n",
    "\n",
    "outputs = mt5_w_context_model.generate(**inputs)\n",
    "gen_answer = mt5_w_context_tokenizer.decode(outputs[0], skip_special_tokens=True)\n",
    "print(f\"Question: {question}\")\n",
    "print(f\"Answer: {answer}\")\n",
    "print(f\"Generated Answer: {gen_answer}\")"
   ]
  },
  {
   "cell_type": "markdown",
   "id": "a2e37fba",
   "metadata": {},
   "source": [
    "# Evaluate difference between answerable and not answerable questions"
   ]
  },
  {
   "cell_type": "code",
   "execution_count": null,
   "id": "c714215a",
   "metadata": {},
   "outputs": [],
   "source": [
    "df_te_train_only_answerable = df_te_train.filter(pl.col(\"answerable\") == False)\n",
    "df_te_val_only_answerable = df_te_val.filter(pl.col(\"answerable\") == False)\n",
    "df_te_train_only_unanswerable = df_te_train.filter(pl.col(\"answerable\") == True)\n",
    "df_te_val_only_unanswerable = df_te_val.filter(pl.col(\"answerable\") == True)\n",
    "\n",
    "print(f\"Train answerable size: {df_te_train_only_answerable.shape}, Val answerable size: {df_te_val_only_answerable.shape}\")\n",
    "print(f\"Train unanswerable size: {df_te_train_only_unanswerable.shape}, Val unanswerable size: {df_te_val_only_unanswerable.shape}\")"
   ]
  },
  {
   "cell_type": "code",
   "execution_count": null,
   "id": "2085f013",
   "metadata": {},
   "outputs": [],
   "source": [
    "# with context and answerable\n",
    "df_te_val_prompt_w_context_answerable = generate_prompt_with_context(df_te_train_only_answerable)\n",
    "val_dataset_w_context_answerable = tokenize_to_dataset(df_te_val_prompt_w_context_answerable, mt5_w_context_tokenizer)\n",
    "\n",
    "# without context and answerable\n",
    "df_te_val_prompt_wo_context_answerable = generate_prompt_wo_context(df_te_train_only_answerable)\n",
    "val_dataset_wo_context_answerable = tokenize_to_dataset(df_te_val_prompt_wo_context_answerable, mt5_wo_context_tokenizer)\n",
    "\n",
    "# with context and unanswerable\n",
    "df_te_val_prompt_w_context_unanswerable = generate_prompt_with_context(df_te_train_only_unanswerable)\n",
    "val_dataset_w_context_unanswerable = tokenize_to_dataset(df_te_val_prompt_w_context_unanswerable, mt5_w_context_tokenizer)\n",
    "\n",
    "# without context and unanswerable\n",
    "df_te_val_prompt_wo_context_unanswerable = generate_prompt_wo_context(df_te_train_only_unanswerable)\n",
    "val_dataset_wo_context_unanswerable = tokenize_to_dataset(df_te_val_prompt_wo_context_unanswerable, mt5_wo_context_tokenizer)"
   ]
  },
  {
   "cell_type": "code",
   "execution_count": null,
   "id": "2f15bc9a",
   "metadata": {},
   "outputs": [],
   "source": [
    "# with context and answerable\n",
    "trainer = trainer_generator(\n",
    "    model=mt5_w_context_model,\n",
    "    tokenizer=mt5_w_context_tokenizer,\n",
    "    train_dataset=val_dataset_w_context_answerable,\n",
    "    eval_dataset=val_dataset_w_context_answerable,\n",
    "    output_dir=\"tmp\",\n",
    "    epochs=1\n",
    ")\n",
    "results = trainer.evaluate()\n",
    "print(results)"
   ]
  },
  {
   "cell_type": "code",
   "execution_count": null,
   "id": "09cdbfe2",
   "metadata": {},
   "outputs": [],
   "source": [
    "# without context and answerable\n",
    "trainer = trainer_generator(\n",
    "    model=mt5_wo_context_model,\n",
    "    tokenizer=mt5_wo_context_tokenizer,\n",
    "    train_dataset=val_dataset_wo_context_answerable,\n",
    "    eval_dataset=val_dataset_wo_context_answerable,\n",
    "    output_dir=\"tmp\",\n",
    "    epochs=1\n",
    ")\n",
    "results = trainer.evaluate()\n",
    "print(results)"
   ]
  },
  {
   "cell_type": "code",
   "execution_count": null,
   "id": "92eb2729",
   "metadata": {},
   "outputs": [],
   "source": [
    "# with context and unanswerable\n",
    "trainer = trainer_generator(\n",
    "    model=mt5_w_context_model,\n",
    "    tokenizer=mt5_w_context_tokenizer,\n",
    "    train_dataset=val_dataset_w_context_unanswerable,\n",
    "    eval_dataset=val_dataset_w_context_unanswerable,\n",
    "    output_dir=\"tmp\",\n",
    "    epochs=1\n",
    ")\n",
    "results = trainer.evaluate()\n",
    "print(results)"
   ]
  },
  {
   "cell_type": "code",
   "execution_count": null,
   "id": "429167dc",
   "metadata": {},
   "outputs": [],
   "source": [
    "# without context and unanswerable\n",
    "trainer = trainer_generator(\n",
    "    model=mt5_wo_context_model,\n",
    "    tokenizer=mt5_wo_context_tokenizer,\n",
    "    train_dataset=val_dataset_wo_context_unanswerable,\n",
    "    eval_dataset=val_dataset_wo_context_unanswerable,\n",
    "    output_dir=\"tmp\",\n",
    "    epochs=1\n",
    ")\n",
    "results = trainer.evaluate()\n",
    "print(results)"
   ]
  }
 ],
 "metadata": {
  "kernelspec": {
   "display_name": "masters",
   "language": "python",
   "name": "python3"
  },
  "language_info": {
   "codemirror_mode": {
    "name": "ipython",
    "version": 3
   },
   "file_extension": ".py",
   "mimetype": "text/x-python",
   "name": "python",
   "nbconvert_exporter": "python",
   "pygments_lexer": "ipython3",
   "version": "3.11.13"
  }
 },
 "nbformat": 4,
 "nbformat_minor": 5
}
