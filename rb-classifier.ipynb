{
 "cells": [
  {
   "cell_type": "markdown",
   "id": "7cf09889",
   "metadata": {},
   "source": [
    "# RuleBased Classification of QA dataset\n",
    "Load in libs, dataframe and examine answerable=true proportion"
   ]
  },
  {
   "cell_type": "code",
   "execution_count": null,
   "id": "f68d2cbc",
   "metadata": {},
   "outputs": [],
   "source": [
    "import polars as pl\n",
    "from data.const import ARB_CACHE, KOR_CACHE, TELU_CACHE\n",
    "from matplotlib import pyplot as plt\n",
    "\n",
    "from bert_utils import (\n",
    "    display_results\n",
    ")"
   ]
  },
  {
   "cell_type": "code",
   "execution_count": null,
   "id": "3c5b7547",
   "metadata": {},
   "outputs": [],
   "source": [
    "df_ar = pl.read_parquet(ARB_CACHE)\n",
    "df_ko = pl.read_parquet(KOR_CACHE)\n",
    "df_te = pl.read_parquet(TELU_CACHE)\n",
    "df_arkote = pl.concat([df_ar, df_ko, df_te])\n",
    "assert df_ar.height + df_ko.height + df_te.height == df_arkote.height; # sanity check\n",
    "print(f\"Answerable proportion: {df_arkote['answerable'].sum() / df_arkote.height:.2f}\")"
   ]
  },
  {
   "cell_type": "markdown",
   "id": "41157d3e",
   "metadata": {},
   "source": [
    "### Expression based approach to making rule based classification"
   ]
  },
  {
   "cell_type": "code",
   "execution_count": null,
   "id": "89d4c414",
   "metadata": {},
   "outputs": [],
   "source": [
    "def just_positive_rule() -> pl.Expr:\n",
    "    # Guessing positive in all cases as a baseline\n",
    "    return pl.lit(True)\n",
    "\n",
    "def when_rule() -> pl.Expr:\n",
    "    return pl.col(\"translation\").str.to_lowercase().str.contains(\"when\") & pl.col(\"context\").str.contains(r\"\\d\")\n",
    "\n",
    "def although_rule() -> pl.Expr:\n",
    "    return ~pl.col(\"context\").str.to_lowercase().str.contains(\"although\")\n",
    "\n",
    "def does_rule() -> pl.Expr:\n",
    "    return ~pl.col(\"translation\").str.to_lowercase().str.contains(\"does\")\n",
    "\n",
    "def first_letter_rule() -> pl.Expr:\n",
    "    return pl.col(\"translation\").str.slice(0, 1).str.to_lowercase().is_in([\"w\", \"h\"])\n",
    "\n",
    "def rule_based_classification() -> pl.Expr:\n",
    "    return (although_rule() & does_rule()) | (when_rule() | first_letter_rule())"
   ]
  },
  {
   "cell_type": "markdown",
   "id": "2d3e96f8",
   "metadata": {},
   "source": [
    "### Performance of rules based classification"
   ]
  },
  {
   "cell_type": "code",
   "execution_count": null,
   "id": "60f98e12",
   "metadata": {},
   "outputs": [],
   "source": [
    "# Performance of each individual rule\n",
    "print(\"JUST POSITIVE RULE PERFORMANCE\")\n",
    "df_just_positive_rule = df_arkote.with_columns(just_positive_rule().alias(\"answerable_pred\"))\n",
    "display_results(df_just_positive_rule['answerable_pred'], df_just_positive_rule['answerable'], [\"N\", \"Y\"], \"Just Positive Rule Confusion Matrix\")\n",
    "\n",
    "print(\"ALTHOUGH RULE PERFORMANCE\")\n",
    "df_although_rule = df_arkote.with_columns(although_rule().alias(\"answerable_pred\"))\n",
    "display_results(df_although_rule['answerable_pred'], df_although_rule['answerable'], [\"N\", \"Y\"], \"Although Rule Confusion Matrix\")\n",
    "\n",
    "print(\"DOES RULE PERFORMANCE\")\n",
    "df_does_rule = df_arkote.with_columns(does_rule().alias(\"answerable_pred\"))\n",
    "display_results(df_does_rule['answerable_pred'], df_does_rule['answerable'], [\"N\", \"Y\"], \"Does Rule Confusion Matrix\")\n",
    "\n",
    "print(\"FIRST LETTER RULE PERFORMANCE\")\n",
    "df_first_letter_rule = df_arkote.with_columns(first_letter_rule().alias(\"answerable_pred\"))\n",
    "display_results(df_first_letter_rule['answerable_pred'], df_first_letter_rule['answerable'], [\"N\", \"Y\"], \"First Letter Rule Confusion Matrix\")\n",
    "\n",
    "print(\"WHEN RULE PERFORMANCE\")\n",
    "df_when_rule = df_arkote.with_columns(when_rule().alias(\"answerable_pred\"))\n",
    "display_results(df_when_rule['answerable_pred'], df_when_rule['answerable'], [\"N\", \"Y\"], \"When Rule Confusion Matrix\")\n",
    "\n",
    "print(\"COMBINED RULES PERFORMANCE\")\n",
    "df_combined_rules = df_arkote.with_columns(rule_based_classification().alias(\"answerable_pred\"))\n",
    "display_results(df_combined_rules['answerable_pred'], df_combined_rules['answerable'], [\"N\", \"Y\"], \"Combined Rules Confusion Matrix\")\n",
    "\n"
   ]
  },
  {
   "cell_type": "code",
   "execution_count": null,
   "id": "b3e1f0c9",
   "metadata": {},
   "outputs": [],
   "source": [
    "print(\"Combined dataset performance\")\n",
    "df_combined_dataset = df_arkote.with_columns(rule_based_classification().alias(\"answerable_pred\"))\n",
    "display_results(df_combined_dataset['answerable_pred'], df_combined_dataset['answerable'], [\"N\", \"Y\"], \"Combined Dataset Confusion Matrix\")\n",
    "\n",
    "print(\"Arabic dataset performance\")\n",
    "df_arabic = df_ar.with_columns(rule_based_classification().alias(\"answerable_pred\"))\n",
    "display_results(df_arabic['answerable_pred'], df_arabic['answerable'], [\"N\", \"Y\"], \"Arabic Dataset Confusion Matrix\")\n",
    "\n",
    "print(\"Korean dataset performance\")\n",
    "df_korean = df_ko.with_columns(rule_based_classification().alias(\"answerable_pred\"))\n",
    "display_results(df_korean['answerable_pred'], df_korean['answerable'], [\"N\", \"Y\"], \"Korean Dataset Confusion Matrix\")\n",
    "\n",
    "print(\"Telugu dataset performance\")\n",
    "df_telugu = df_te.with_columns(rule_based_classification().alias(\"answerable_pred\"))\n",
    "display_results(df_telugu['answerable_pred'], df_telugu['answerable'], [\"N\", \"Y\"], \"Telugu Dataset Confusion Matrix\")"
   ]
  }
 ],
 "metadata": {
  "kernelspec": {
   "display_name": "masters",
   "language": "python",
   "name": "python3"
  },
  "language_info": {
   "codemirror_mode": {
    "name": "ipython",
    "version": 3
   },
   "file_extension": ".py",
   "mimetype": "text/x-python",
   "name": "python",
   "nbconvert_exporter": "python",
   "pygments_lexer": "ipython3",
   "version": "3.11.13"
  }
 },
 "nbformat": 4,
 "nbformat_minor": 5
}
