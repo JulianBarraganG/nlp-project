{
 "cells": [
  {
   "cell_type": "markdown",
   "id": "7cf09889",
   "metadata": {},
   "source": [
    "# RuleBased Classification of QA dataset\n",
    "Load in libs, dataframe and examine answerable=true proportion"
   ]
  },
  {
   "cell_type": "code",
   "execution_count": null,
   "id": "f68d2cbc",
   "metadata": {},
   "outputs": [],
   "source": [
    "import polars as pl\n",
    "import re\n",
    "from typing import Any\n",
    "from data.const import ARB_CACHE, KOR_CACHE, TELU_CACHE"
   ]
  },
  {
   "cell_type": "code",
   "execution_count": null,
   "id": "3c5b7547",
   "metadata": {},
   "outputs": [],
   "source": [
    "df_ar = pl.read_parquet(ARB_CACHE)\n",
    "df_ko = pl.read_parquet(KOR_CACHE)\n",
    "df_te = pl.read_parquet(TELU_CACHE)\n",
    "df_arkote = pl.concat([df_ar, df_ko, df_te])\n",
    "assert df_ar.height + df_ko.height + df_te.height == df_arkote.height; # sanity check\n",
    "print(f\"Answerable proportion: {df_arkote['answerable'].sum() / df_arkote.height:.2f}\")"
   ]
  },
  {
   "cell_type": "markdown",
   "id": "41157d3e",
   "metadata": {},
   "source": [
    "### Expression based approach to making rule based classification"
   ]
  },
  {
   "cell_type": "code",
   "execution_count": null,
   "id": "89d4c414",
   "metadata": {},
   "outputs": [],
   "source": [
    "def when_rule() -> pl.Expr:\n",
    "    return pl.col(\"translation\").str.to_lowercase().str.contains(\"when\") & pl.col(\"context\").str.contains(r\"\\d\")\n",
    "\n",
    "def rule_based_classification() -> pl.Expr:\n",
    "    return when_rule() # | foo_rule() | bar_rule() | foo_bar_rule() etc."
   ]
  },
  {
   "cell_type": "code",
   "execution_count": null,
   "id": "db5dd64d",
   "metadata": {},
   "outputs": [],
   "source": [
    "# Add `answerable_pred` column based on rule-based classification\n",
    "df_arkote = df_arkote.with_columns(\n",
    "    rule_based_classification().alias(\"answerable_pred\")\n",
    ")\n",
    "df_arkote.head()"
   ]
  },
  {
   "cell_type": "markdown",
   "id": "5dfccb05",
   "metadata": {},
   "source": [
    "### Old approach"
   ]
  },
  {
   "cell_type": "code",
   "execution_count": null,
   "id": "d97a88a1",
   "metadata": {},
   "outputs": [],
   "source": [
    "def rule_based_classification(question: str, context: str, rules_list: list[Any]) -> bool:\n",
    "    return bool(sum([rule(question, context) for rule in rules_list]))\n",
    "\n",
    "def when_digit_rule(question: str, context: str) -> bool:\n",
    "    return (\"when\" in question.lower() and bool(re.search(r'\\d', context)))"
   ]
  },
  {
   "cell_type": "code",
   "execution_count": null,
   "id": "4a679b39",
   "metadata": {},
   "outputs": [],
   "source": [
    "rules = [when_digit_rule]\n",
    "df_ar = df_ar.with_columns(\n",
    "    pl.struct(\"translation\", \"context\")\n",
    "    .map_elements(lambda x: rule_based_classification(x[\"translation\"], x[\"context\"], rules), return_dtype=pl.Boolean)\n",
    "    .alias(\"answerable_pred\")\n",
    ")\n",
    "df_ar.head()"
   ]
  }
 ],
 "metadata": {
  "kernelspec": {
   "display_name": "masters",
   "language": "python",
   "name": "python3"
  },
  "language_info": {
   "codemirror_mode": {
    "name": "ipython",
    "version": 3
   },
   "file_extension": ".py",
   "mimetype": "text/x-python",
   "name": "python",
   "nbconvert_exporter": "python",
   "pygments_lexer": "ipython3",
   "version": "3.11.13"
  }
 },
 "nbformat": 4,
 "nbformat_minor": 5
}
