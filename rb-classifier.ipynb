{
 "cells": [
  {
   "cell_type": "markdown",
   "id": "7cf09889",
   "metadata": {},
   "source": [
    "# RuleBased Classification of QA dataset"
   ]
  },
  {
   "cell_type": "code",
   "execution_count": null,
   "id": "f68d2cbc",
   "metadata": {},
   "outputs": [],
   "source": [
    "import polars as pl\n",
    "import re\n",
    "from typing import Any"
   ]
  },
  {
   "cell_type": "code",
   "execution_count": null,
   "id": "70ab6755",
   "metadata": {},
   "outputs": [],
   "source": [
    "df_ar_mini = pl.read_parquet(\"df_ar_mini.parquet\")"
   ]
  },
  {
   "cell_type": "code",
   "execution_count": null,
   "id": "d9632719",
   "metadata": {},
   "outputs": [],
   "source": [
    "print(f\"Answerable proportion: {df_ar_mini['answerable'].sum() / df_ar_mini.height}\")"
   ]
  },
  {
   "cell_type": "code",
   "execution_count": null,
   "id": "89d4c414",
   "metadata": {},
   "outputs": [],
   "source": [
    "def when_digit_rule(question: str, context: str) -> bool:\n",
    "    return (\"when\" in question.lower() and bool(re.search(r'\\d', context)))"
   ]
  },
  {
   "cell_type": "code",
   "execution_count": null,
   "id": "8851a564",
   "metadata": {},
   "outputs": [],
   "source": [
    "# Should be true\n",
    "print(when_digit_rule(df_ar_mini[0, \"translation\"], df_ar_mini[0, \"context\"]))\n",
    "print(lambda x: x*2)"
   ]
  },
  {
   "cell_type": "code",
   "execution_count": null,
   "id": "36e3e691",
   "metadata": {},
   "outputs": [],
   "source": [
    "def rule_based_classification(question: str, context: str, rules_list: list[Any]) -> bool:\n",
    "    return bool(sum([rule(question, context) for rule in rules_list]))"
   ]
  },
  {
   "cell_type": "code",
   "execution_count": null,
   "id": "4a679b39",
   "metadata": {},
   "outputs": [],
   "source": [
    "rules = [when_digit_rule]\n",
    "rule_based_classification(df_ar_mini[0, \"translation\"], df_ar_mini[0, \"context\"], rules)"
   ]
  },
  {
   "cell_type": "code",
   "execution_count": null,
   "id": "507b1caa",
   "metadata": {},
   "outputs": [],
   "source": [
    "trans_cont_tuples = [(trans, cont) for trans, cont in zip(df_ar_mini[\"translation\"], df_ar_mini[\"context\"])]"
   ]
  },
  {
   "cell_type": "code",
   "execution_count": null,
   "id": "85fcffe7",
   "metadata": {},
   "outputs": [],
   "source": [
    "answerable_preds = [rule_based_classification(t, c, rules) for t, c in trans_cont_tuples]\n",
    "answerable_preds"
   ]
  },
  {
   "cell_type": "code",
   "execution_count": null,
   "id": "6342e4e8",
   "metadata": {},
   "outputs": [],
   "source": [
    "gt_answerables = df_ar_mini[\"answerable\"].to_list()\n",
    "score = sum([pred == gt for pred, gt in zip(answerable_preds, gt_answerables)]) / len(gt_answerables)\n",
    "score"
   ]
  }
 ],
 "metadata": {
  "kernelspec": {
   "display_name": "masters (3.11.12)",
   "language": "python",
   "name": "python3"
  },
  "language_info": {
   "codemirror_mode": {
    "name": "ipython",
    "version": 3
   },
   "file_extension": ".py",
   "mimetype": "text/x-python",
   "name": "python",
   "nbconvert_exporter": "python",
   "pygments_lexer": "ipython3",
   "version": "3.11.12"
  }
 },
 "nbformat": 4,
 "nbformat_minor": 5
}
