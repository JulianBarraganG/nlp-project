{
 "cells": [
  {
   "cell_type": "code",
   "execution_count": 9,
   "id": "01b881be",
   "metadata": {},
   "outputs": [],
   "source": [
    "import os\n",
    "import polars as pl\n",
    "import torch\n",
    "\n",
    "# Huggingface imports\n",
    "from transformers import (\n",
    "    AutoTokenizer,\n",
    "    BertForTokenClassification,\n",
    ")\n",
    "\n",
    "# Import own modules\n",
    "from bert_utils import (\n",
    "    bio_sequence_labeler,\n",
    "    get_results,\n",
    "    display_results,\n",
    ")\n"
   ]
  },
  {
   "cell_type": "code",
   "execution_count": 10,
   "id": "5fb58a35",
   "metadata": {},
   "outputs": [],
   "source": [
    "model_path = os.path.join(os.getcwd(), \"results\", \"answer_span_classifier_mbert\")\n",
    "save_path = os.path.join(model_path, \"fine_tuned\")"
   ]
  },
  {
   "cell_type": "code",
   "execution_count": 11,
   "id": "ff4bd2e7",
   "metadata": {},
   "outputs": [
    {
     "name": "stdout",
     "output_type": "stream",
     "text": [
      "Using device: mps\n"
     ]
    }
   ],
   "source": [
    "# Select device for training\n",
    "device = torch.device(\"cpu\")\n",
    "if torch.backends.mps.is_available():\n",
    "    device = torch.device(\"mps\")\n",
    "if torch.cuda.is_available():\n",
    "    device = torch.device(\"cuda\")\n",
    "\n",
    "print(f'Using device: {device}')"
   ]
  },
  {
   "cell_type": "code",
   "execution_count": 12,
   "id": "4bf5f1c0",
   "metadata": {},
   "outputs": [],
   "source": [
    "model = BertForTokenClassification.from_pretrained(save_path, num_labels=3)\n",
    "mbert_tokenizer = AutoTokenizer.from_pretrained(save_path)"
   ]
  },
  {
   "cell_type": "code",
   "execution_count": 13,
   "id": "34974d0c",
   "metadata": {},
   "outputs": [
    {
     "data": {
      "text/html": [
       "<div><style>\n",
       ".dataframe > thead > tr,\n",
       ".dataframe > tbody > tr {\n",
       "  text-align: right;\n",
       "  white-space: pre-wrap;\n",
       "}\n",
       "</style>\n",
       "<small>shape: (5, 8)</small><table border=\"1\" class=\"dataframe\"><thead><tr><th>question</th><th>context</th><th>lang</th><th>answerable</th><th>answer_start</th><th>answer</th><th>answer_inlang</th><th>translation</th></tr><tr><td>str</td><td>str</td><td>str</td><td>bool</td><td>i64</td><td>str</td><td>str</td><td>str</td></tr></thead><tbody><tr><td>&quot;Which company published the vi…</td><td>&quot;Hell&#x27;s Kitchen: The Game is a …</td><td>&quot;en&quot;</td><td>true</td><td>164</td><td>&quot;Ubisoft&quot;</td><td>&quot;Ubisoft&quot;</td><td>&quot;Which company published the vi…</td></tr><tr><td>&quot;八一大楼是什么时候完全建成的？&quot;</td><td>&quot;The first PLA main office in B…</td><td>&quot;zh&quot;</td><td>true</td><td>584</td><td>&quot;July 1999&quot;</td><td>&quot;1999年7月&quot;</td><td>&quot;When was the August 1st buildi…</td></tr><tr><td>&quot;1650ల చివరలో &#x27;Hareskoven&#x27;ను ఏ …</td><td>&quot;Hareskov was severely damaged …</td><td>&quot;te&quot;</td><td>true</td><td>37</td><td>&quot;the Swedish&quot;</td><td>&quot;స్వీడిష్&quot;</td><td>&quot;Which country damaged &#x27;Haresko…</td></tr><tr><td>&quot;ఎముక పురుగులు దేని నుండి ఆహారం…</td><td>&quot;Osedax is a genus of deep-sea …</td><td>&quot;te&quot;</td><td>true</td><td>208</td><td>&quot;whale carcasses&quot;</td><td>&quot;తిమింగల కళేబరాలు&quot;</td><td>&quot;What do boneworms feed on?&quot;</td></tr><tr><td>&quot;దోసకాయలు ఏ ఖండం నుండి ఉద్భవించ…</td><td>&quot;Considered an annual plant, th…</td><td>&quot;te&quot;</td><td>true</td><td>180</td><td>&quot;Asia&quot;</td><td>&quot;ఆసియా&quot;</td><td>&quot;Which continent did cucumbers …</td></tr></tbody></table></div>"
      ],
      "text/plain": [
       "shape: (5, 8)\n",
       "┌─────────────┬────────────┬──────┬────────────┬────────────┬────────────┬────────────┬────────────┐\n",
       "│ question    ┆ context    ┆ lang ┆ answerable ┆ answer_sta ┆ answer     ┆ answer_inl ┆ translatio │\n",
       "│ ---         ┆ ---        ┆ ---  ┆ ---        ┆ rt         ┆ ---        ┆ ang        ┆ n          │\n",
       "│ str         ┆ str        ┆ str  ┆ bool       ┆ ---        ┆ str        ┆ ---        ┆ ---        │\n",
       "│             ┆            ┆      ┆            ┆ i64        ┆            ┆ str        ┆ str        │\n",
       "╞═════════════╪════════════╪══════╪════════════╪════════════╪════════════╪════════════╪════════════╡\n",
       "│ Which       ┆ Hell's     ┆ en   ┆ true       ┆ 164        ┆ Ubisoft    ┆ Ubisoft    ┆ Which      │\n",
       "│ company     ┆ Kitchen:   ┆      ┆            ┆            ┆            ┆            ┆ company    │\n",
       "│ published   ┆ The Game   ┆      ┆            ┆            ┆            ┆            ┆ published  │\n",
       "│ the vi…     ┆ is a …     ┆      ┆            ┆            ┆            ┆            ┆ the vi…    │\n",
       "│ 八一大楼是  ┆ The first  ┆ zh   ┆ true       ┆ 584        ┆ July 1999  ┆ 1999年7月  ┆ When was   │\n",
       "│ 什么时候完  ┆ PLA main   ┆      ┆            ┆            ┆            ┆            ┆ the August │\n",
       "│ 全建成的？  ┆ office in  ┆      ┆            ┆            ┆            ┆            ┆ 1st        │\n",
       "│             ┆ B…         ┆      ┆            ┆            ┆            ┆            ┆ buildi…    │\n",
       "│ 1650ల చివరలో  ┆ Hareskov   ┆ te   ┆ true       ┆ 37         ┆ the        ┆ స్వీడిష్       ┆ Which      │\n",
       "│ 'Hareskoven ┆ was        ┆      ┆            ┆            ┆ Swedish    ┆            ┆ country    │\n",
       "│ 'ను ఏ …     ┆ severely   ┆      ┆            ┆            ┆            ┆            ┆ damaged    │\n",
       "│             ┆ damaged …  ┆      ┆            ┆            ┆            ┆            ┆ 'Haresko…  │\n",
       "│ ఎముక        ┆ Osedax is  ┆ te   ┆ true       ┆ 208        ┆ whale      ┆ తిమింగల      ┆ What do    │\n",
       "│ పురుగులు దేని ┆ a genus of ┆      ┆            ┆            ┆ carcasses  ┆ కళేబరాలు     ┆ boneworms  │\n",
       "│ నుండి ఆహారం…  ┆ deep-sea … ┆      ┆            ┆            ┆            ┆            ┆ feed on?   │\n",
       "│ దోసకాయలు ఏ    ┆ Considered ┆ te   ┆ true       ┆ 180        ┆ Asia       ┆ ఆసియా        ┆ Which      │\n",
       "│ ఖండం నుండి   ┆ an annual  ┆      ┆            ┆            ┆            ┆            ┆ continent  │\n",
       "│ ఉద్భవించ…     ┆ plant, th… ┆      ┆            ┆            ┆            ┆            ┆ did        │\n",
       "│             ┆            ┆      ┆            ┆            ┆            ┆            ┆ cucumbers  │\n",
       "│             ┆            ┆      ┆            ┆            ┆            ┆            ┆ …          │\n",
       "└─────────────┴────────────┴──────┴────────────┴────────────┴────────────┴────────────┴────────────┘"
      ]
     },
     "execution_count": 13,
     "metadata": {},
     "output_type": "execute_result"
    }
   ],
   "source": [
    "df_test_json = pl.read_json(\"test.json\")\n",
    "df_test_json.head()"
   ]
  },
  {
   "cell_type": "markdown",
   "id": "3efd013d",
   "metadata": {},
   "source": [
    "### Create label columns\n",
    "Note that we cut off at 512 tokens. Two instances will have their answer after 512. We do this for simplicity, since the model has 512 token max, and we expect the model to generalize well without these two points."
   ]
  },
  {
   "cell_type": "code",
   "execution_count": 14,
   "id": "788d3038",
   "metadata": {},
   "outputs": [],
   "source": [
    "#df_test_json = df_test_json.with_columns(\n",
    "#    pl.struct([\"question\", \"context\", \"answer_start\", \"answer\"]).map_elements(\n",
    "#        lambda x: bio_sequence_labeler(\n",
    "#            x[\"answer_start\"],\n",
    "#            x[\"answer\"],\n",
    "#            x[\"question\"],\n",
    "#            x[\"context\"],\n",
    "#            mbert_tokenizer,\n",
    "#        ),\n",
    "#        return_dtype=pl.List(pl.Int8)\n",
    "#    ).alias(\"labels\")\n",
    "#)"
   ]
  },
  {
   "cell_type": "markdown",
   "id": "7e9a306d",
   "metadata": {},
   "source": [
    "## Get Confusion Matrix for each language"
   ]
  },
  {
   "cell_type": "code",
   "execution_count": 15,
   "id": "087a0b5f",
   "metadata": {},
   "outputs": [
    {
     "data": {
      "image/png": "[encoded data removed]",
      "text/plain": [
       "<Figure size 800x600 with 1 Axes>"
      ]
     },
     "metadata": {},
     "output_type": "display_data"
    },
    {
     "name": "stdout",
     "output_type": "stream",
     "text": [
      "Classification Report:\n",
      "              precision    recall  f1-score   support\n",
      "\n",
      "           O       1.00      1.00      1.00      9698\n",
      "       B-ANS       0.12      0.20      0.15        10\n",
      "       I-ANS       0.28      0.35      0.31        20\n",
      "\n",
      "    accuracy                           0.99      9728\n",
      "   macro avg       0.47      0.52      0.49      9728\n",
      "weighted avg       1.00      0.99      1.00      9728\n",
      "\n"
     ]
    }
   ],
   "source": [
    "df_test_json = df_test_json.with_columns(\n",
    "    pl.struct([\"question\", \"context\", \"answer_start\", \"answer\"]).map_elements(\n",
    "        lambda x: bio_sequence_labeler(x[\"answer_start\"],x[\"answer\"],x[\"question\"],x[\"context\"],\n",
    "        mbert_tokenizer),\n",
    "    return_dtype=pl.List(pl.Int8)).alias(\"labels\"))\n",
    "\n",
    "y_true, y_pred = get_results(model, df_test_json, mbert_tokenizer)\n",
    "display_results(y_true, y_pred, title=\"YEEES\")"
   ]
  },
  {
   "cell_type": "markdown",
   "id": "e0b2d5b8",
   "metadata": {},
   "source": [
    "## Get full Confusion Matrix for fully trained model"
   ]
  },
  {
   "cell_type": "code",
   "execution_count": 16,
   "id": "529e822a",
   "metadata": {},
   "outputs": [],
   "source": [
    "#y_true, y_pred = get_results(model, df_val, mbert_tokenizer)\n",
    "#display_results(y_true, y_pred)"
   ]
  }
 ],
 "metadata": {
  "kernelspec": {
   "display_name": "masters",
   "language": "python",
   "name": "python3"
  },
  "language_info": {
   "codemirror_mode": {
    "name": "ipython",
    "version": 3
   },
   "file_extension": ".py",
   "mimetype": "text/x-python",
   "name": "python",
   "nbconvert_exporter": "python",
   "pygments_lexer": "ipython3",
   "version": "3.11.13"
  }
 },
 "nbformat": 4,
 "nbformat_minor": 5
}
