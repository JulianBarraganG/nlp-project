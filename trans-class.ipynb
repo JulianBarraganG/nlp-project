{
 "cells": [
  {
   "cell_type": "markdown",
   "id": "22bf2d7d",
   "metadata": {},
   "source": [
    "# LM for QA Tidy_XOR dataset"
   ]
  },
  {
   "cell_type": "code",
   "execution_count": null,
   "id": "ef5847f3",
   "metadata": {},
   "outputs": [],
   "source": [
    "import gc\n",
    "import polars as pl\n",
    "import torch\n",
    "\n",
    "# Huggingface imports\n",
    "from transformers import (\n",
    "    AutoTokenizer,\n",
    "    AutoModelForSequenceClassification,\n",
    "    Trainer,\n",
    "    TrainingArguments\n",
    ")\n",
    "from datasets import load_dataset, Dataset"
   ]
  },
  {
   "cell_type": "code",
   "execution_count": null,
   "id": "5c187f92",
   "metadata": {},
   "outputs": [],
   "source": [
    "# Select device for training\n",
    "device = torch.device(\"cpu\")\n",
    "if torch.backends.mps.is_available():\n",
    "    device = torch.device(\"mps\")\n",
    "if torch.cuda.is_available():\n",
    "  device = torch.device(\"cuda\")\n",
    "\n",
    "print(f'Using device: {device}')"
   ]
  },
  {
   "cell_type": "code",
   "execution_count": null,
   "id": "a8ea93d5",
   "metadata": {},
   "outputs": [],
   "source": [
    "# Load dataset\n",
    "dataset = load_dataset(\"coastalcph/tydi_xor_rc\")\n",
    "df_train = dataset[\"train\"].to_polars()\n",
    "df_val = dataset[\"validation\"].to_polars()\n",
    "\n",
    "# Get only Arabic for now\n",
    "df_ar_train = df_train.filter(pl.col(\"lang\") == \"ar\")\n",
    "df_ar_val = df_val.filter(pl.col(\"lang\") == \"ar\")"
   ]
  },
  {
   "cell_type": "code",
   "execution_count": null,
   "id": "42b9bb8e",
   "metadata": {},
   "outputs": [],
   "source": [
    "# Load mBERT tokenizer\n",
    "model_checkpoint = \"bert-base-multilingual-uncased\"\n",
    "mbert_tokenizer = AutoTokenizer.from_pretrained(model_checkpoint)\n",
    "mbert_classifier = AutoModelForSequenceClassification.from_pretrained(\n",
    "    model_checkpoint,\n",
    "    num_labels=2,\n",
    ")\n",
    "df_ar_val.head(5)"
   ]
  },
  {
   "cell_type": "code",
   "execution_count": null,
   "id": "0bd235b2",
   "metadata": {},
   "outputs": [],
   "source": [
    "# Load mBERT with classification head\n",
    "model_checkpoint = \"bert-base-multilingual-uncased\"\n",
    "mbert_tokenizer = AutoTokenizer.from_pretrained(model_checkpoint)\n",
    "mbert_model = AutoModelForSequenceClassification.from_pretrained(\n",
    "    model_checkpoint, \n",
    "    num_labels=2  # binary classification (answerable or not)\n",
    ")\n",
    "\n",
    "# Prepare your data\n",
    "def prepare_data(df):\n",
    "    # Convert Polars to dict format for HF datasets\n",
    "    data_dict = {\n",
    "        \"question\": df[\"question\"].to_list(),\n",
    "        \"context\": df[\"context\"].to_list(),\n",
    "        \"label\": df[\"answerable\"].cast(int).to_list()  # Convert bool to int\n",
    "    }\n",
    "    return Dataset.from_dict(data_dict)\n",
    "\n",
    "train_dataset = prepare_data(df_ar_train)\n",
    "val_dataset = prepare_data(df_ar_val)\n",
    "\n",
    "# Tokenization function\n",
    "def tokenize_function(examples):\n",
    "    # Tokenize with question and content separated by [SEP]\n",
    "    # [CLS] is added automatically\n",
    "    return mbert_tokenizer(\n",
    "        examples[\"question\"],\n",
    "        examples[\"context\"],\n",
    "        truncation=True,\n",
    "        padding=\"max_length\",\n",
    "        max_length=512\n",
    "    )\n",
    "\n",
    "# Tokenize datasets\n",
    "tokenized_train = train_dataset.map(tokenize_function, batched=True)\n",
    "tokenized_val = val_dataset.map(tokenize_function, batched=True)\n",
    "\n",
    "# Print example tokenized input\n",
    "print(tokenized_train[0])"
   ]
  },
  {
   "cell_type": "code",
   "execution_count": null,
   "id": "d47dbe3d",
   "metadata": {},
   "outputs": [],
   "source": [
    "# Function to get predictions\n",
    "def predict(question, context, model, tokenizer):\n",
    "    \"\"\"Get model prediction for a single example\"\"\"\n",
    "    inputs = tokenizer(\n",
    "        question, \n",
    "        context, \n",
    "        truncation=True, \n",
    "        max_length=512,\n",
    "        return_tensors=\"pt\"\n",
    "    )\n",
    "    \n",
    "    # Move to GPU if available\n",
    "    if torch.cuda.is_available():\n",
    "        inputs = {k: v.cuda() for k, v in inputs.items()}\n",
    "        model = model.cuda()\n",
    "    \n",
    "    model.eval()\n",
    "    with torch.no_grad():\n",
    "        outputs = model(**inputs)\n",
    "        logits = outputs.logits\n",
    "        probs = torch.softmax(logits, dim=1)\n",
    "        prediction = torch.argmax(logits, dim=1).item()\n",
    "    \n",
    "    return {\n",
    "        'prediction': prediction,  # 0 or 1\n",
    "        'confidence': probs[0][prediction].item(),\n",
    "        'prob_class_0': probs[0][0].item(),\n",
    "        'prob_class_1': probs[0][1].item()\n",
    "    }\n",
    "\n",
    "# Test on a few examples BEFORE training\n",
    "print(\"=\" * 50)\n",
    "print(\"BEFORE FINE-TUNING (Random Classification Head)\")\n",
    "print(\"=\" * 50)\n",
    "\n",
    "# Get a few examples from your validation set\n",
    "for i in range(3):\n",
    "    example = df_ar_val.row(i, named=True)\n",
    "    \n",
    "    result = predict(example['question'], example['context'], mbert_model, mbert_tokenizer)\n",
    "    \n",
    "    print(f\"\\nExample {i+1}:\")\n",
    "    print(f\"Question: {example['question'][:100]}...\")\n",
    "    print(f\"Ground Truth: {'Answerable' if example['answerable'] else 'Not Answerable'}\")\n",
    "    print(f\"Prediction: {'Answerable' if result['prediction'] == 1 else 'Not Answerable'}\")\n",
    "    print(f\"Confidence: {result['confidence']:.3f}\")\n",
    "    print(f\"Probs: [Not Answerable: {result['prob_class_0']:.3f}, Answerable: {result['prob_class_1']:.3f}]\")"
   ]
  },
  {
   "cell_type": "code",
   "execution_count": null,
   "id": "48736d56",
   "metadata": {},
   "outputs": [],
   "source": [
    "# Clear torch cache before training\n",
    "gc.collect()\n",
    "torch.cuda.empty_cache()"
   ]
  },
  {
   "cell_type": "code",
   "execution_count": null,
   "id": "984dcbce",
   "metadata": {},
   "outputs": [],
   "source": [
    "\n",
    "\n",
    "# Training arguments\n",
    "training_args = TrainingArguments(\n",
    "    output_dir=\"./results\",\n",
    "    eval_strategy=\"epoch\",\n",
    "    learning_rate=2e-5,\n",
    "    num_train_epochs=3,\n",
    "    # Regularization\n",
    "    weight_decay=0.01,\n",
    "    # Memory settings\n",
    "    per_device_train_batch_size=4,\n",
    "    gradient_accumulation_steps=2,\n",
    "    fp16=True,\n",
    "    # Evaluation\n",
    "    per_device_eval_batch_size=8,\n",
    "    save_strategy=\"epoch\",\n",
    "    load_best_model_at_end=True,\n",
    ")\n",
    "\n",
    "# Trainer\n",
    "trainer = Trainer(\n",
    "    model=mbert_classifier,\n",
    "    args=training_args,\n",
    "    train_dataset=tokenized_train,\n",
    "    eval_dataset=tokenized_val,\n",
    ")"
   ]
  },
  {
   "cell_type": "code",
   "execution_count": null,
   "id": "4d6737df",
   "metadata": {},
   "outputs": [],
   "source": [
    "# Train\n",
    "trainer.train()"
   ]
  },
  {
   "cell_type": "code",
   "execution_count": null,
   "id": "59ac65a1",
   "metadata": {},
   "outputs": [],
   "source": [
    "# Test AFTER training on the same examples\n",
    "print(\"\\n\" + \"=\" * 50)\n",
    "print(\"AFTER FINE-TUNING\")\n",
    "print(\"=\" * 50)\n",
    "\n",
    "for i in range(3):\n",
    "    example = df_ar_val.row(i, named=True)\n",
    "\n",
    "    result = predict(example['question'], example['context'], mbert_classifier, mbert_tokenizer)\n",
    "\n",
    "    print(f\"\\nExample {i+1}:\")\n",
    "    print(f\"Question: {example['question'][:100]}...\")\n",
    "    print(f\"Ground Truth: {'Answerable' if example['answerable'] else 'Not Answerable'}\")\n",
    "    print(f\"Prediction: {'Answerable' if result['prediction'] == 1 else 'Not Answerable'}\")\n",
    "    print(f\"Confidence: {result['confidence']:.3f}\")"
   ]
  },
  {
   "cell_type": "code",
   "execution_count": null,
   "id": "b3b9e5b0",
   "metadata": {},
   "outputs": [],
   "source": [
    "# Save model\n",
    "mbert_model.save_pretrained(\"./mbert_arabic_answerable_classifier\")\n",
    "mbert_tokenizer.save_pretrained(\"./mbert_arabic_answerable_classifier\")"
   ]
  }
 ],
 "metadata": {
  "kernelspec": {
   "display_name": "masters",
   "language": "python",
   "name": "python3"
  },
  "language_info": {
   "codemirror_mode": {
    "name": "ipython",
    "version": 3
   },
   "file_extension": ".py",
   "mimetype": "text/x-python",
   "name": "python",
   "nbconvert_exporter": "python",
   "pygments_lexer": "ipython3",
   "version": "3.11.13"
  }
 },
 "nbformat": 4,
 "nbformat_minor": 5
}
