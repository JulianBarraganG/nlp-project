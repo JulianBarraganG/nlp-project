{
 "cells": [
  {
   "cell_type": "code",
   "execution_count": null,
   "id": "e152c686",
   "metadata": {},
   "outputs": [],
   "source": [
    "#import polars as pl\n",
    "#from datasets import Dataset, load_dataset\n",
    "#import torch"
   ]
  },
  {
   "cell_type": "code",
   "execution_count": null,
   "id": "1d692cba",
   "metadata": {},
   "outputs": [],
   "source": [
    "from transformers import MT5ForConditionalGeneration, T5Tokenizer\n",
    "mt5_tokenizer = T5Tokenizer.from_pretrained(\"google/mt5-small\")\n",
    "mt5_model = MT5ForConditionalGeneration.from_pretrained(\"google/mt5-small\")"
   ]
  },
  {
   "cell_type": "code",
   "execution_count": null,
   "id": "131ad4f4",
   "metadata": {},
   "outputs": [],
   "source": [
    "from transformers import T5ForConditionalGeneration, T5Tokenizer\n",
    "t5_tokenizer = T5Tokenizer.from_pretrained(\"t5-small\")\n",
    "t5_model = T5ForConditionalGeneration.from_pretrained(\"t5-small\")"
   ]
  },
  {
   "cell_type": "code",
   "execution_count": null,
   "id": "ca090855",
   "metadata": {},
   "outputs": [],
   "source": [
    "from transformers import MBartForConditionalGeneration, AutoTokenizer\n",
    "mbart_tokenizer = AutoTokenizer.from_pretrained(\"facebook/mbart-large-cc25\")\n",
    "mbart_model = MBartForConditionalGeneration.from_pretrained(\"facebook/mbart-large-cc25\")"
   ]
  },
  {
   "cell_type": "code",
   "execution_count": null,
   "id": "4bd8d20f",
   "metadata": {},
   "outputs": [],
   "source": [
    "from transformers import AutoTokenizer, AutoModelForCausalLM\n",
    "gpt2_tokenizer = AutoTokenizer.from_pretrained('distilgpt2')\n",
    "gpt2_model = AutoModelForCausalLM.from_pretrained('distilgpt2')"
   ]
  },
  {
   "cell_type": "code",
   "execution_count": null,
   "id": "c83d38e6",
   "metadata": {},
   "outputs": [],
   "source": [
    "def answer_question(question: str, context: str, model, tokenizer) -> str:\n",
    "    promt = f\"question: {question}  context: {context}\"\n",
    "    input_tokens = tokenizer(promt, return_tensors=\"pt\", truncation=True, max_length=512)\n",
    "    generated_tokens = model.generate(\n",
    "        **input_tokens,\n",
    "        max_new_tokens=64,\n",
    "        #num_beams=4, # Beam search see lab 4\n",
    "        early_stopping=True,\n",
    "        top_p=0.95, temperature=0.9 # \n",
    "    )\n",
    "    answer = tokenizer.decode(generated_tokens[0], skip_special_tokens=True)\n",
    "    return answer"
   ]
  },
  {
   "cell_type": "code",
   "execution_count": null,
   "id": "9ef0eb13",
   "metadata": {},
   "outputs": [],
   "source": [
    "answer_question(\"What is the best way to fall asleep?\", \"do not drink a white monster right before going to bed\", t5_model, t5_tokenizer)"
   ]
  },
  {
   "cell_type": "code",
   "execution_count": null,
   "id": "522f4f2a",
   "metadata": {},
   "outputs": [],
   "source": [
    "answer_question(\"What is the best way to fall asleep?\", \"do not drink a white monster right before going to bed\", mt5_model, mt5_tokenizer)"
   ]
  },
  {
   "cell_type": "code",
   "execution_count": null,
   "id": "f2326c87",
   "metadata": {},
   "outputs": [],
   "source": [
    "answer_question(\"What is the best way to fall asleep?\", \"do not drink a white monster right before going to bed\", mbart_model, mbart_tokenizer)"
   ]
  },
  {
   "cell_type": "code",
   "execution_count": null,
   "id": "e4ec3879",
   "metadata": {},
   "outputs": [],
   "source": [
    "answer_question(\"What is the best way to fall asleep?\", \"do not drink a white monster right before going to bed\", gpt2_model, gpt2_tokenizer)"
   ]
  }
 ],
 "metadata": {
  "kernelspec": {
   "display_name": "masters",
   "language": "python",
   "name": "python3"
  },
  "language_info": {
   "codemirror_mode": {
    "name": "ipython",
    "version": 3
   },
   "file_extension": ".py",
   "mimetype": "text/x-python",
   "name": "python",
   "nbconvert_exporter": "python",
   "pygments_lexer": "ipython3",
   "version": "3.11.13"
  }
 },
 "nbformat": 4,
 "nbformat_minor": 5
}
