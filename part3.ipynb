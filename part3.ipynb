{
 "cells": [
  {
   "cell_type": "markdown",
   "id": "22bf2d7d",
   "metadata": {},
   "source": [
    "# Week 38 mBERT Binary 'Answerability' Classifier"
   ]
  },
  {
   "cell_type": "code",
   "execution_count": null,
   "id": "ef5847f3",
   "metadata": {},
   "outputs": [],
   "source": [
    "import os\n",
    "import polars as pl\n",
    "import torch\n",
    "\n",
    "from sklearn.metrics import confusion_matrix, classification_report\n",
    "import matplotlib.pyplot as plt\n",
    "\n",
    "from bert_utils import (\n",
    "    predict_binary,\n",
    "    prepare_data,\n",
    "    tokenize_function,\n",
    "    train_mbert,\n",
    ")\n",
    "\n",
    "# Huggingface imports\n",
    "from transformers import (\n",
    "    AutoTokenizer,\n",
    "    AutoModelForSequenceClassification,\n",
    ")\n",
    "from datasets import load_dataset"
   ]
  },
  {
   "cell_type": "code",
   "execution_count": null,
   "id": "5c187f92",
   "metadata": {},
   "outputs": [],
   "source": [
    "# Select device for training\n",
    "device = torch.device(\"cpu\")\n",
    "if torch.backends.mps.is_available():\n",
    "    device = torch.device(\"mps\")\n",
    "if torch.cuda.is_available():\n",
    "  device = torch.device(\"cuda\")\n",
    "\n",
    "print(f'Using device: {device}')"
   ]
  },
  {
   "cell_type": "code",
   "execution_count": null,
   "id": "a8ea93d5",
   "metadata": {},
   "outputs": [],
   "source": [
    "# Load personal dataset\n",
    "test_data = pl.read_json(\"test.json\")"
   ]
  },
  {
   "cell_type": "code",
   "execution_count": null,
   "id": "ef33671a",
   "metadata": {},
   "outputs": [],
   "source": [
    "# Check Korean distribution train\n",
    "print(f\"Custom test set size: {len(test_data)} with a total of {test_data['answerable'].sum()} answerable questions.\")\n",
    "print(f\"This gives a distribution of {test_data['answerable'].sum() / len(test_data) * 100:.2f}% answerable questions.\")"
   ]
  },
  {
   "cell_type": "markdown",
   "id": "d2452fa1",
   "metadata": {},
   "source": [
    "### Load in the fine-tuned model"
   ]
  },
  {
   "cell_type": "code",
   "execution_count": null,
   "id": "749a83f1",
   "metadata": {},
   "outputs": [],
   "source": [
    "path = os.path.join(\"mbert_classifiers\", \"telugu_mbert_answerable_classifier\")\n",
    "if os.path.exists(path):\n",
    "    model = AutoModelForSequenceClassification.from_pretrained(path)\n",
    "    tokenizer = AutoTokenizer.from_pretrained(path)\n",
    "else:\n",
    "    raise ValueError(f\"Model not trained. Go to bert-class.ipynb notebook to train the model first.\")"
   ]
  },
  {
   "cell_type": "markdown",
   "id": "390ea2da",
   "metadata": {},
   "source": [
    "## Results"
   ]
  },
  {
   "cell_type": "code",
   "execution_count": null,
   "id": "59ac65a1",
   "metadata": {},
   "outputs": [],
   "source": [
    "    # Test AFTER training on the same examples\n",
    "    print(\"\\n\" + \"=\" * 50)\n",
    "    print(f\"AFTER FINE-TUNING\")\n",
    "    print(\"=\" * 50)\n",
    "    for i in range(3):\n",
    "        example = test_data.row(i, named=True)\n",
    "\n",
    "        result = predict_binary(example['question'], example['context'], model, tokenizer)\n",
    "\n",
    "        print(f\"\\nExample {i+1}:\")\n",
    "        print(f\"Question: {example['question'][:100]}...\")\n",
    "        print(f\"Ground Truth: {'Answerable' if example['answerable'] else 'Not Answerable'}\")\n",
    "        print(f\"Prediction: {'Answerable' if result['prediction'] == 1 else 'Not Answerable'}\")\n",
    "        print(f\"Confidence: {result['confidence']:.3f}\")"
   ]
  },
  {
   "cell_type": "code",
   "execution_count": null,
   "id": "fc335623",
   "metadata": {},
   "outputs": [],
   "source": [
    "# Get the global accuracy for each language on validation set  \n",
    "correct = 0\n",
    "total = len(test_data)\n",
    "print(f\"\\nCalculating accuracy for test set of size {total}...\")\n",
    "for i in range(total):\n",
    "    example = test_data.row(i, named=True)\n",
    "    result = predict_binary(example['question'], example['context'], model, tokenizer)\n",
    "    if result['prediction'] == example['answerable']:\n",
    "        correct += 1\n",
    "accuracy = correct / total * 100\n",
    "print(f\"Accuracy: {accuracy:.2f}% ({correct}/{total})\")"
   ]
  },
  {
   "cell_type": "code",
   "execution_count": null,
   "id": "03352d83",
   "metadata": {},
   "outputs": [],
   "source": [
    "# Make confusion matrices for each language\n",
    "y_true = []\n",
    "y_pred = []\n",
    "total = len(test_data)\n",
    "print(f\"\\nCalculating confusion matrix for on of size {total}...\")\n",
    "for i in range(total):\n",
    "    example = test_data.row(i, named=True)\n",
    "    result = predict_binary(example['question'], example['context'], model, tokenizer)\n",
    "    y_true.append(example['answerable'])\n",
    "    y_pred.append(result['prediction'])\n",
    "cm = confusion_matrix(y_true, y_pred, normalize='true')\n",
    "plt.figure(figsize=(8, 6))\n",
    "plt.imshow(cm, interpolation='nearest', cmap=plt.cm.Blues)\n",
    "plt.title(f\"Confusion Matrix for Test Set\")\n",
    "\n",
    "plt.colorbar()\n",
    "tick_marks = range(len(['Not Answerable', 'Answerable']))\n",
    "plt.xticks(tick_marks, ['Not Answerable', 'Answerable'])\n",
    "plt.yticks(tick_marks, ['Not Answerable', 'Answerable'])\n",
    "plt.xlabel(\"Predicted Label\")\n",
    "plt.ylabel(\"True Label\")\n",
    "# Include numbers as text in the plot\n",
    "thresh = cm.max() / 2.\n",
    "for i in range(cm.shape[0]):\n",
    "    for j in range(cm.shape[1]):\n",
    "        plt.text(j, i, f\"{cm[i, j]:.2f}\",\n",
    "                    horizontalalignment=\"center\",\n",
    "                    color=\"white\" if cm[i, j] > thresh else \"black\")\n",
    "plt.show()\n",
    "print(f\"Classification Report for test set:\\n{classification_report(y_true, y_pred, target_names=['Not Answerable', 'Answerable'])}\") "
   ]
  }
 ],
 "metadata": {
  "kernelspec": {
   "display_name": "masters",
   "language": "python",
   "name": "python3"
  },
  "language_info": {
   "codemirror_mode": {
    "name": "ipython",
    "version": 3
   },
   "file_extension": ".py",
   "mimetype": "text/x-python",
   "name": "python",
   "nbconvert_exporter": "python",
   "pygments_lexer": "ipython3",
   "version": "3.11.0"
  }
 },
 "nbformat": 4,
 "nbformat_minor": 5
}
